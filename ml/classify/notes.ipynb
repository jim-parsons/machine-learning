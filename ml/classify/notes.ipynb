{
 "cells": [
  {
   "cell_type": "markdown",
   "metadata": {
    "collapsed": true
   },
   "source": [
    "### 精准率和召回率\n",
    "\n",
    "- 在数据倾斜的情况下，准确率已经不适用\n",
    "- 精准率和召回率主要关注我们发生的事情且被成功预测\n",
    "    - 精准率: 在我们所有预测中，真实发生的比例\n",
    "    - 召回率: 在所有真实实践中，真实发生的比例\n",
    "- 如果精准率和召回率为零，则准确率的大小已经没有意义"
   ]
  },
  {
   "cell_type": "code",
   "execution_count": null,
   "metadata": {},
   "outputs": [],
   "source": []
  }
 ],
 "metadata": {
  "kernelspec": {
   "display_name": "Python 3",
   "language": "python",
   "name": "python3"
  },
  "language_info": {
   "codemirror_mode": {
    "name": "ipython",
    "version": 3
   },
   "file_extension": ".py",
   "mimetype": "text/x-python",
   "name": "python",
   "nbconvert_exporter": "python",
   "pygments_lexer": "ipython3",
   "version": "3.6.5"
  }
 },
 "nbformat": 4,
 "nbformat_minor": 1
}
