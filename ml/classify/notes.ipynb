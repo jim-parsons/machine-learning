{
 "cells": [
  {
   "cell_type": "markdown",
   "metadata": {
    "collapsed": true
   },
   "source": [
    "### 精准率和召回率\n",
    "\n",
    "- 在数据倾斜的情况下，准确率已经不适用\n",
    "- 精准率和召回率主要关注我们发生的事情且被成功预测\n",
    "    - 精准率: 在我们所有预测中，真实发生的比例\n",
    "    - 召回率: 在所有真实实践中，真实发生的比例\n",
    "- 如果精准率和召回率为零，则准确率的大小已经没有意义"
   ]
  },
  {
   "cell_type": "markdown",
   "metadata": {},
   "source": [
    "### 精准率和召回率"
   ]
  },
  {
   "cell_type": "markdown",
   "metadata": {},
   "source": [
    "真实\\预测 | 0 |  1  \n",
    ":-: | :-: | :-:\n",
    "0 | 预测negative正确 <br> TN | 预测positive错误 <br> FP |\n",
    "1 | 预测negative错误 <br> FN | 预测positive正确 <br> TP |\n"
   ]
  },
  {
   "cell_type": "markdown",
   "metadata": {},
   "source": [
    "- 精准率: $precision = \\frac{TP}{TP + FP}$\n",
    "    - 比如预测股票要升\n",
    "        1. **精准率: 我们预测的所有上升股票中，真实上升的比率，如果低了，表示我们预测很多实际的下降股票，如果购买则亏钱**\n",
    "        2. 召回率: 在所有实际上升的股票中，我们预测上升的股票比率，即漏掉了一些上升的股票，但是我们也不会亏钱’\n",
    "    - 对预测的准确性比较敏感\n",
    "- 召回率: $recall = \\frac{TP}{TP + FN}$\n",
    "    - 预测癌症病人\n",
    "        1. 精准率: 在我们所有预测中，患病多少\n",
    "        2. **召回率: 在所有实际患病中，我们预测了多少病人，这个比率要高，否则会漏掉实际患病的病人**\n",
    "    - 对遗漏的数据比较敏感"
   ]
  },
  {
   "cell_type": "markdown",
   "metadata": {},
   "source": [
    "### 两者兼顾， F1 Score precision和recall的调和平均值"
   ]
  },
  {
   "cell_type": "markdown",
   "metadata": {},
   "source": [
    "\n",
    "$$\\frac{1}{F1} = \\frac{1}{2}(\\frac{1}{precision} + \\frac{1}{recall})$$\n",
    "\n",
    "$$F1 = \\frac{2\\cdot precision \\cdot recall}{precision + recall}$$"
   ]
  },
  {
   "cell_type": "markdown",
   "metadata": {},
   "source": [
    "### ROC & AUC"
   ]
  },
  {
   "cell_type": "markdown",
   "metadata": {},
   "source": [
    "\n",
    "$$TPR = \\frac{TP}{TP + FN}$$\n",
    "$$FPR = \\frac{FP}{TN + FP}$$\n",
    "\n",
    "- TPR: 和召回率一样，预测正确 占 所有正确数据中的比率\n",
    "- FPR: 预测错误 占 所有错误数据中的比率"
   ]
  },
  {
   "cell_type": "code",
   "execution_count": null,
   "metadata": {},
   "outputs": [],
   "source": []
  }
 ],
 "metadata": {
  "kernelspec": {
   "display_name": "Python 3",
   "language": "python",
   "name": "python3"
  },
  "language_info": {
   "codemirror_mode": {
    "name": "ipython",
    "version": 3
   },
   "file_extension": ".py",
   "mimetype": "text/x-python",
   "name": "python",
   "nbconvert_exporter": "python",
   "pygments_lexer": "ipython3",
   "version": "3.6.5"
  }
 },
 "nbformat": 4,
 "nbformat_minor": 1
}
