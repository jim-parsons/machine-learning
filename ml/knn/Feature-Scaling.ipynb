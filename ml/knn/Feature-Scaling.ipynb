{
 "cells": [
  {
   "cell_type": "markdown",
   "metadata": {
    "collapsed": true
   },
   "source": [
    "### 特征值归一化"
   ]
  },
  {
   "cell_type": "code",
   "execution_count": 30,
   "metadata": {},
   "outputs": [],
   "source": [
    "import numpy as np\n",
    "import matplotlib.pyplot as plt"
   ]
  },
  {
   "cell_type": "markdown",
   "metadata": {},
   "source": [
    "### 最值归一化"
   ]
  },
  {
   "cell_type": "code",
   "execution_count": 31,
   "metadata": {},
   "outputs": [],
   "source": [
    "x = np.random.randint(0, 100, size=100)"
   ]
  },
  {
   "cell_type": "code",
   "execution_count": 32,
   "metadata": {},
   "outputs": [
    {
     "data": {
      "text/plain": [
       "array([0.97979798, 0.83838384, 0.3030303 , 0.8989899 , 0.28282828,\n",
       "       0.39393939, 0.78787879, 0.94949495, 0.56565657, 0.75757576,\n",
       "       0.55555556, 0.72727273, 0.32323232, 0.34343434, 1.        ,\n",
       "       0.8989899 , 0.41414141, 0.73737374, 0.67676768, 0.02020202,\n",
       "       0.72727273, 0.88888889, 0.76767677, 0.23232323, 0.6969697 ,\n",
       "       0.50505051, 0.55555556, 0.33333333, 0.36363636, 0.        ,\n",
       "       0.49494949, 0.78787879, 0.19191919, 0.23232323, 0.22222222,\n",
       "       0.12121212, 0.46464646, 0.17171717, 0.51515152, 0.06060606,\n",
       "       0.70707071, 0.19191919, 0.28282828, 0.67676768, 0.77777778,\n",
       "       0.31313131, 0.80808081, 0.34343434, 0.41414141, 0.62626263,\n",
       "       0.29292929, 0.28282828, 0.65656566, 0.47474747, 0.35353535,\n",
       "       0.14141414, 0.74747475, 0.52525253, 0.44444444, 0.75757576,\n",
       "       1.        , 0.77777778, 0.8989899 , 0.80808081, 0.23232323,\n",
       "       0.95959596, 0.66666667, 0.06060606, 0.16161616, 0.45454545,\n",
       "       0.86868687, 0.64646465, 0.05050505, 0.3030303 , 0.32323232,\n",
       "       0.3030303 , 0.53535354, 0.12121212, 0.17171717, 0.7979798 ,\n",
       "       0.7979798 , 0.48484848, 0.68686869, 0.18181818, 0.93939394,\n",
       "       0.68686869, 0.5959596 , 0.03030303, 0.80808081, 0.31313131,\n",
       "       0.07070707, 0.57575758, 0.64646465, 0.29292929, 1.        ,\n",
       "       0.55555556, 0.35353535, 0.91919192, 0.03030303, 0.16161616])"
      ]
     },
     "execution_count": 32,
     "metadata": {},
     "output_type": "execute_result"
    }
   ],
   "source": [
    "(x - np.min(x)) / (np.max(x) - np.min(x))"
   ]
  },
  {
   "cell_type": "code",
   "execution_count": 33,
   "metadata": {},
   "outputs": [],
   "source": [
    "X = np.random.randint(0, 100, (50, 2))"
   ]
  },
  {
   "cell_type": "code",
   "execution_count": 34,
   "metadata": {},
   "outputs": [
    {
     "data": {
      "text/plain": [
       "array([[ 4, 69],\n",
       "       [50, 88],\n",
       "       [78, 39],\n",
       "       [21, 44],\n",
       "       [ 5, 80],\n",
       "       [48, 28],\n",
       "       [19, 66],\n",
       "       [87, 57],\n",
       "       [71, 21],\n",
       "       [21, 75]])"
      ]
     },
     "execution_count": 34,
     "metadata": {},
     "output_type": "execute_result"
    }
   ],
   "source": [
    "X[:10,:]"
   ]
  },
  {
   "cell_type": "code",
   "execution_count": 35,
   "metadata": {},
   "outputs": [
    {
     "data": {
      "text/plain": [
       "array([[ 4., 69.],\n",
       "       [50., 88.],\n",
       "       [78., 39.],\n",
       "       [21., 44.],\n",
       "       [ 5., 80.],\n",
       "       [48., 28.],\n",
       "       [19., 66.],\n",
       "       [87., 57.],\n",
       "       [71., 21.],\n",
       "       [21., 75.]])"
      ]
     },
     "execution_count": 35,
     "metadata": {},
     "output_type": "execute_result"
    }
   ],
   "source": [
    "X = np.array(X, dtype=float)\n",
    "X[:10, :]"
   ]
  },
  {
   "cell_type": "code",
   "execution_count": 36,
   "metadata": {},
   "outputs": [],
   "source": [
    "X[:, 0] = (X[:, 0] - np.min(X[:, 0])) / (np.max(X[:, 0]) - np.min(X[:, 0]))"
   ]
  },
  {
   "cell_type": "code",
   "execution_count": 37,
   "metadata": {},
   "outputs": [
    {
     "data": {
      "text/plain": [
       "array([0.01052632, 0.49473684, 0.78947368, 0.18947368, 0.02105263,\n",
       "       0.47368421, 0.16842105, 0.88421053, 0.71578947, 0.18947368])"
      ]
     },
     "execution_count": 37,
     "metadata": {},
     "output_type": "execute_result"
    }
   ],
   "source": [
    "X[: 10, 0] "
   ]
  },
  {
   "cell_type": "code",
   "execution_count": 38,
   "metadata": {},
   "outputs": [],
   "source": [
    "X[:, 1] = (X[:, 1] - np.min(X[:, 1])) / (np.max(X[:, 1]) - np.min(X[:, 1]))"
   ]
  },
  {
   "cell_type": "code",
   "execution_count": 39,
   "metadata": {},
   "outputs": [
    {
     "data": {
      "image/png": "[encoded data removed]",
      "text/plain": [
       "<Figure size 432x288 with 1 Axes>"
      ]
     },
     "metadata": {
      "needs_background": "light"
     },
     "output_type": "display_data"
    }
   ],
   "source": [
    "plt.scatter(X[:, 0], X[:, 1])\n",
    "plt.show()"
   ]
  },
  {
   "cell_type": "code",
   "execution_count": 40,
   "metadata": {},
   "outputs": [
    {
     "data": {
      "text/plain": [
       "0.4033684210526316"
      ]
     },
     "execution_count": 40,
     "metadata": {},
     "output_type": "execute_result"
    }
   ],
   "source": [
    "np.mean(X[:, 0])"
   ]
  },
  {
   "cell_type": "markdown",
   "metadata": {},
   "source": [
    "### 均值方差归一化"
   ]
  },
  {
   "cell_type": "code",
   "execution_count": 41,
   "metadata": {},
   "outputs": [],
   "source": [
    "X2  = np.random.randint(0, 100, (50, 2))\n",
    "X2 = np.array(X2, dtype=float)"
   ]
  },
  {
   "cell_type": "code",
   "execution_count": 42,
   "metadata": {},
   "outputs": [],
   "source": [
    "X2[:, 0] = (X2[:, 0] - np.mean(X2[:, 0])) / np.std(X2[:, 0])"
   ]
  },
  {
   "cell_type": "code",
   "execution_count": 43,
   "metadata": {},
   "outputs": [],
   "source": [
    "X2[:, 1] = (X2[:, 1] - np.mean(X2[:, 1])) / np.std(X2[:, 1])"
   ]
  },
  {
   "cell_type": "code",
   "execution_count": 44,
   "metadata": {},
   "outputs": [
    {
     "data": {
      "image/png": "[encoded data removed]",
      "text/plain": [
       "<Figure size 432x288 with 1 Axes>"
      ]
     },
     "metadata": {
      "needs_background": "light"
     },
     "output_type": "display_data"
    }
   ],
   "source": [
    "plt.scatter(X2[:, 0], X2[:, 1])\n",
    "plt.show()"
   ]
  },
  {
   "cell_type": "code",
   "execution_count": 45,
   "metadata": {},
   "outputs": [
    {
     "data": {
      "text/plain": [
       "-7.993605777301127e-17"
      ]
     },
     "execution_count": 45,
     "metadata": {},
     "output_type": "execute_result"
    }
   ],
   "source": [
    "np.mean(X2[: , 0])"
   ]
  },
  {
   "cell_type": "code",
   "execution_count": null,
   "metadata": {},
   "outputs": [],
   "source": [
    "np.std(X2[:, 1])"
   ]
  }
 ],
 "metadata": {
  "kernelspec": {
   "display_name": "Python 3",
   "language": "python",
   "name": "python3"
  },
  "language_info": {
   "codemirror_mode": {
    "name": "ipython",
    "version": 3
   },
   "file_extension": ".py",
   "mimetype": "text/x-python",
   "name": "python",
   "nbconvert_exporter": "python",
   "pygments_lexer": "ipython3",
   "version": "3.6.8"
  }
 },
 "nbformat": 4,
 "nbformat_minor": 1
}
