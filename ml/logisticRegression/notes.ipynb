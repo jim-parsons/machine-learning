{
 "cells": [
  {
   "cell_type": "markdown",
   "metadata": {
    "collapsed": true
   },
   "source": [
    "### 逻辑回归 Logistic Regression"
   ]
  },
  {
   "cell_type": "markdown",
   "metadata": {},
   "source": [
    "sigmoid :  $\\hat{p} = \\sigma(\\theta^T \\cdot x_b)  = \\frac{1}{1 + e^{-\\theta^T \\cdot x_b}}$ \n",
    "\n",
    "目标函数：  $\\hat{y} = \\left\\{ \\begin{array}{rcl} 1, \\hat{y}\\geq0 \\\\ 0, \\hat{y}<0 \\end{array} \\right.$\n",
    "\n",
    "损失函数:  $cost = -y\\log(\\hat{p}) - (1-y)\\log({1-\\hat{p}})$"
   ]
  },
  {
   "cell_type": "markdown",
   "metadata": {},
   "source": [
    "### 损失函数"
   ]
  },
  {
   "cell_type": "markdown",
   "metadata": {},
   "source": [
    "$$J(\\theta) =  -\\frac{1}{m}\\sum_{i=1}^m [y^{(i)}\\log(\\hat{p}^{i}) + (1 - y^{(i)}) \\log(1 - \\hat{p} ^{(i)})] $$\n",
    "\n",
    "$$\\hat{p}^{(i)} = \\sigma(X_b^{(i)}\\theta)  = \\frac{1}{1+e^{-X_b^{(i)}\\theta}}         $$\n",
    "\n",
    "$$J(\\theta) =  -\\frac{1}{m}\\sum_{i=1}^m [y^{(i)}\\log(\\sigma(X_b^{(i)}\\theta)) + (1 - y^{(i)}) \\log(1 - \\sigma(X_b^{(i)}\\theta))] $$"
   ]
  },
  {
   "cell_type": "markdown",
   "metadata": {},
   "source": [
    "### 梯度下降\n",
    "\n",
    "$$\\frac{J(\\theta)}{\\theta_j}  = \\frac{1}{m} \\sum_{i=1}^n   ( \\sigma(X_b^{i}) -y^{i}  )  X_j^{(i)}$$\n",
    "\n",
    "$$\\nabla J(\\theta) = \\left(\\begin{array}{rcl}  \n",
    "\\frac{\\partial J}{\\partial\\theta_0} \\\\ \n",
    "\\frac{\\partial J}{\\partial\\theta_1} \\\\\n",
    "\\frac{\\partial J}{\\partial\\theta_2} \\\\\n",
    "\\cdots \\\\\n",
    "\\frac{\\partial J}{\\partial\\theta_n} \\\\\n",
    "\\end{array}\\right)\n",
    "= \n",
    "\\frac{1}{m}\\cdot\n",
    "\\left(\\begin{array}{rcl} \n",
    "\\sum_{i=1}^n ( \\sigma(X_b^{(i)}\\theta - y^{(i)}) )\\cdot X_1^{(i)} \\\\\n",
    "\\sum_{i=1}^n ( \\sigma(X_b^{(i)}\\theta - y^{(i)}) )\\cdot X_2^{(i)} \\\\\n",
    "\\sum_{i=1}^n ( \\sigma(X_b^{(i)}\\theta - y^{(i)}) )\\cdot X_3^{(i)} \\\\\n",
    "\\cdots \\\\\n",
    "\\sum_{i=1}^n ( \\sigma(X_b^{(i)}\\theta - y^{(i)}) )\\cdot X_n^{(i)}\n",
    "\\end{array}\\right) \n",
    "= \n",
    "\\frac{1}{m}\\cdot\n",
    "\\left(\\begin{array}{rcl} \n",
    "\\sum_{i=1}^n ( \\hat{y}^{(i)} - y^{(i)}) )\\cdot X_1^{(i)} \\\\\n",
    "\\sum_{i=1}^n ( \\hat{y}^{(i)} - y^{(i)}) )\\cdot X_2^{(i)} \\\\\n",
    "\\sum_{i=1}^n ( \\hat{y}^{(i)} - y^{(i)}) )\\cdot X_3^{(i)} \\\\\n",
    "\\cdots \\\\\n",
    "\\sum_{i=1}^n ( \\hat{y}^{(i)} - y^{(i)}) )\\cdot X_n^{(i)}\n",
    "\\end{array}\\right) \n",
    "$$\n",
    "\n",
    "$$\n",
    "\\nabla J(\\theta) = \\frac{1}{m}\\cdot X_b^T \\cdot (\\sigma(X_b\\theta) - y)\n",
    "$$"
   ]
  },
  {
   "cell_type": "code",
   "execution_count": null,
   "metadata": {},
   "outputs": [],
   "source": []
  }
 ],
 "metadata": {
  "kernelspec": {
   "display_name": "Python 3",
   "language": "python",
   "name": "python3"
  },
  "language_info": {
   "codemirror_mode": {
    "name": "ipython",
    "version": 3
   },
   "file_extension": ".py",
   "mimetype": "text/x-python",
   "name": "python",
   "nbconvert_exporter": "python",
   "pygments_lexer": "ipython3",
   "version": "3.6.8"
  }
 },
 "nbformat": 4,
 "nbformat_minor": 1
}
