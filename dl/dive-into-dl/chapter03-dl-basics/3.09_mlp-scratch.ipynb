{
 "cells": [
  {
   "cell_type": "markdown",
   "metadata": {},
   "source": [
    "### 3.9 多层感知机的从零开始实现"
   ]
  },
  {
   "cell_type": "code",
   "execution_count": 1,
   "metadata": {},
   "outputs": [
    {
     "data": {
      "text/plain": [
       "'/Users/tom/Work/workspace/pycharm/machine-learning/dl/dive-into-dl/chapter03-dl-basics'"
      ]
     },
     "execution_count": 1,
     "metadata": {},
     "output_type": "execute_result"
    }
   ],
   "source": [
    "import torch\n",
    "import numpy as np\n",
    "import sys\n",
    "import os, sys\n",
    "sys.path.append(\"..\")\n",
    "import d2lzh_pytorch.utils as d2l\n",
    "np.random.seed(666)\n",
    "cur_path = os.path.abspath(os.path.dirname('__file__'))\n",
    "data_path = cur_path.replace('dl\\dive-into-dl\\chapter03-dl-basics', 'data\\\\')\n",
    "np.random.seed(666)\n",
    "data_path"
   ]
  },
  {
   "cell_type": "markdown",
   "metadata": {},
   "source": [
    "### 3.9.1 获取和读取数据"
   ]
  },
  {
   "cell_type": "code",
   "execution_count": 2,
   "metadata": {},
   "outputs": [],
   "source": [
    "batch_size = 256\n",
    "train_iter, test_iter = d2l.load_data_fashion_mnist(batch_size)"
   ]
  },
  {
   "cell_type": "markdown",
   "metadata": {},
   "source": [
    "### 3.9.2 定义模型参数"
   ]
  },
  {
   "cell_type": "code",
   "execution_count": 3,
   "metadata": {},
   "outputs": [],
   "source": [
    "num_inputs, num_outputs, num_hiddens = 784, 10, 256\n",
    "\n",
    "# W1 [784, 256]\n",
    "W1 = torch.tensor(np.random.normal(0, 0.01, (num_inputs, num_hiddens)), dtype=torch.float, requires_grad=True)\n",
    "# b1 [1, 256]\n",
    "b1 = torch.zeros(num_hiddens, dtype=torch.float, requires_grad=True)\n",
    "# W2 [256, 10]\n",
    "W2 = torch.tensor(np.random.normal(0, 0.01, (num_hiddens, num_outputs)), dtype=torch.float, requires_grad=True)\n",
    "# b1 [1, 10]\n",
    "b2 = torch.zeros(num_outputs, dtype=torch.float, requires_grad=True)\n",
    "\n",
    "params = [W1, b1, W2, b2]"
   ]
  },
  {
   "cell_type": "markdown",
   "metadata": {},
   "source": [
    "### 3.9.3 定义激活函数"
   ]
  },
  {
   "cell_type": "code",
   "execution_count": 4,
   "metadata": {},
   "outputs": [],
   "source": [
    "def relu(X):\n",
    "    return torch.max(input=X, other=torch.tensor(0.0))"
   ]
  },
  {
   "cell_type": "markdown",
   "metadata": {},
   "source": [
    "### 3.9.4 定义模型"
   ]
  },
  {
   "cell_type": "code",
   "execution_count": 5,
   "metadata": {},
   "outputs": [],
   "source": [
    "def net(X):\n",
    "    X = X.view((-1, num_inputs))\n",
    "    H = relu(torch.matmul(X, W1) + b1)\n",
    "    return torch.matmul(H, W2) + b2"
   ]
  },
  {
   "cell_type": "markdown",
   "metadata": {},
   "source": [
    "### 3.9.5  定义损失函数"
   ]
  },
  {
   "cell_type": "code",
   "execution_count": 6,
   "metadata": {},
   "outputs": [],
   "source": [
    "loss = torch.nn.CrossEntropyLoss()"
   ]
  },
  {
   "cell_type": "markdown",
   "metadata": {},
   "source": [
    "### 3.9.6 训练模型"
   ]
  },
  {
   "cell_type": "code",
   "execution_count": 7,
   "metadata": {},
   "outputs": [
    {
     "name": "stdout",
     "output_type": "stream",
     "text": [
      "epoch 1, loss 0.0089, train acc 0.243, test acc 0.270\n",
      "epoch 2, loss 0.0088, train acc 0.284, test acc 0.287\n",
      "epoch 3, loss 0.0085, train acc 0.285, test acc 0.291\n",
      "epoch 4, loss 0.0082, train acc 0.370, test acc 0.418\n",
      "epoch 5, loss 0.0076, train acc 0.484, test acc 0.527\n",
      "epoch 6, loss 0.0070, train acc 0.542, test acc 0.560\n",
      "epoch 7, loss 0.0064, train acc 0.582, test acc 0.572\n",
      "epoch 8, loss 0.0059, train acc 0.596, test acc 0.581\n",
      "epoch 9, loss 0.0055, train acc 0.602, test acc 0.610\n",
      "epoch 10, loss 0.0052, train acc 0.618, test acc 0.609\n",
      "epoch 11, loss 0.0049, train acc 0.627, test acc 0.622\n",
      "epoch 12, loss 0.0046, train acc 0.637, test acc 0.629\n",
      "epoch 13, loss 0.0044, train acc 0.644, test acc 0.638\n",
      "epoch 14, loss 0.0042, train acc 0.651, test acc 0.642\n",
      "epoch 15, loss 0.0041, train acc 0.657, test acc 0.644\n",
      "epoch 16, loss 0.0039, train acc 0.661, test acc 0.649\n",
      "epoch 17, loss 0.0038, train acc 0.666, test acc 0.656\n",
      "epoch 18, loss 0.0037, train acc 0.671, test acc 0.659\n",
      "epoch 19, loss 0.0036, train acc 0.674, test acc 0.666\n",
      "epoch 20, loss 0.0035, train acc 0.679, test acc 0.668\n",
      "epoch 21, loss 0.0034, train acc 0.682, test acc 0.671\n",
      "epoch 22, loss 0.0034, train acc 0.686, test acc 0.672\n",
      "epoch 23, loss 0.0033, train acc 0.690, test acc 0.678\n",
      "epoch 24, loss 0.0032, train acc 0.693, test acc 0.683\n",
      "epoch 25, loss 0.0032, train acc 0.697, test acc 0.685\n",
      "epoch 26, loss 0.0032, train acc 0.701, test acc 0.694\n",
      "epoch 27, loss 0.0031, train acc 0.706, test acc 0.697\n",
      "epoch 28, loss 0.0031, train acc 0.711, test acc 0.703\n",
      "epoch 29, loss 0.0030, train acc 0.715, test acc 0.707\n",
      "epoch 30, loss 0.0030, train acc 0.720, test acc 0.708\n",
      "epoch 31, loss 0.0030, train acc 0.724, test acc 0.714\n",
      "epoch 32, loss 0.0029, train acc 0.728, test acc 0.720\n",
      "epoch 33, loss 0.0029, train acc 0.732, test acc 0.724\n",
      "epoch 34, loss 0.0029, train acc 0.736, test acc 0.727\n",
      "epoch 35, loss 0.0028, train acc 0.739, test acc 0.731\n",
      "epoch 36, loss 0.0028, train acc 0.743, test acc 0.732\n",
      "epoch 37, loss 0.0028, train acc 0.747, test acc 0.735\n",
      "epoch 38, loss 0.0028, train acc 0.749, test acc 0.738\n",
      "epoch 39, loss 0.0027, train acc 0.752, test acc 0.741\n",
      "epoch 40, loss 0.0027, train acc 0.755, test acc 0.744\n",
      "epoch 41, loss 0.0027, train acc 0.758, test acc 0.748\n",
      "epoch 42, loss 0.0027, train acc 0.761, test acc 0.748\n",
      "epoch 43, loss 0.0026, train acc 0.764, test acc 0.753\n",
      "epoch 44, loss 0.0026, train acc 0.766, test acc 0.757\n",
      "epoch 45, loss 0.0026, train acc 0.768, test acc 0.759\n",
      "epoch 46, loss 0.0026, train acc 0.770, test acc 0.763\n",
      "epoch 47, loss 0.0026, train acc 0.772, test acc 0.766\n",
      "epoch 48, loss 0.0026, train acc 0.775, test acc 0.766\n",
      "epoch 49, loss 0.0025, train acc 0.777, test acc 0.770\n",
      "epoch 50, loss 0.0025, train acc 0.779, test acc 0.772\n",
      "epoch 51, loss 0.0025, train acc 0.782, test acc 0.774\n",
      "epoch 52, loss 0.0025, train acc 0.783, test acc 0.775\n",
      "epoch 53, loss 0.0025, train acc 0.785, test acc 0.776\n",
      "epoch 54, loss 0.0024, train acc 0.787, test acc 0.778\n",
      "epoch 55, loss 0.0024, train acc 0.789, test acc 0.780\n",
      "epoch 56, loss 0.0024, train acc 0.791, test acc 0.781\n",
      "epoch 57, loss 0.0024, train acc 0.792, test acc 0.782\n",
      "epoch 58, loss 0.0024, train acc 0.794, test acc 0.783\n",
      "epoch 59, loss 0.0024, train acc 0.795, test acc 0.784\n",
      "epoch 60, loss 0.0024, train acc 0.797, test acc 0.786\n",
      "epoch 61, loss 0.0023, train acc 0.798, test acc 0.788\n",
      "epoch 62, loss 0.0023, train acc 0.799, test acc 0.787\n",
      "epoch 63, loss 0.0023, train acc 0.800, test acc 0.790\n",
      "epoch 64, loss 0.0023, train acc 0.801, test acc 0.790\n",
      "epoch 65, loss 0.0023, train acc 0.803, test acc 0.791\n",
      "epoch 66, loss 0.0023, train acc 0.804, test acc 0.793\n",
      "epoch 67, loss 0.0023, train acc 0.804, test acc 0.794\n",
      "epoch 68, loss 0.0023, train acc 0.806, test acc 0.794\n",
      "epoch 69, loss 0.0023, train acc 0.806, test acc 0.795\n",
      "epoch 70, loss 0.0022, train acc 0.808, test acc 0.796\n",
      "epoch 71, loss 0.0022, train acc 0.809, test acc 0.797\n",
      "epoch 72, loss 0.0022, train acc 0.810, test acc 0.797\n",
      "epoch 73, loss 0.0022, train acc 0.810, test acc 0.797\n",
      "epoch 74, loss 0.0022, train acc 0.810, test acc 0.798\n",
      "epoch 75, loss 0.0022, train acc 0.812, test acc 0.798\n",
      "epoch 76, loss 0.0022, train acc 0.812, test acc 0.801\n",
      "epoch 77, loss 0.0022, train acc 0.813, test acc 0.800\n",
      "epoch 78, loss 0.0022, train acc 0.814, test acc 0.800\n",
      "epoch 79, loss 0.0022, train acc 0.815, test acc 0.801\n",
      "epoch 80, loss 0.0021, train acc 0.815, test acc 0.803\n",
      "epoch 81, loss 0.0021, train acc 0.816, test acc 0.803\n",
      "epoch 82, loss 0.0021, train acc 0.817, test acc 0.803\n",
      "epoch 83, loss 0.0021, train acc 0.817, test acc 0.805\n",
      "epoch 84, loss 0.0021, train acc 0.818, test acc 0.806\n",
      "epoch 85, loss 0.0021, train acc 0.819, test acc 0.804\n",
      "epoch 86, loss 0.0021, train acc 0.819, test acc 0.807\n",
      "epoch 87, loss 0.0021, train acc 0.820, test acc 0.806\n",
      "epoch 88, loss 0.0021, train acc 0.820, test acc 0.808\n",
      "epoch 89, loss 0.0021, train acc 0.821, test acc 0.808\n",
      "epoch 90, loss 0.0021, train acc 0.821, test acc 0.808\n",
      "epoch 91, loss 0.0021, train acc 0.822, test acc 0.809\n",
      "epoch 92, loss 0.0021, train acc 0.822, test acc 0.810\n",
      "epoch 93, loss 0.0021, train acc 0.823, test acc 0.811\n",
      "epoch 94, loss 0.0020, train acc 0.824, test acc 0.811\n",
      "epoch 95, loss 0.0020, train acc 0.824, test acc 0.811\n",
      "epoch 96, loss 0.0020, train acc 0.824, test acc 0.812\n",
      "epoch 97, loss 0.0020, train acc 0.825, test acc 0.812\n",
      "epoch 98, loss 0.0020, train acc 0.825, test acc 0.813\n",
      "epoch 99, loss 0.0020, train acc 0.826, test acc 0.813\n",
      "epoch 100, loss 0.0020, train acc 0.826, test acc 0.814\n",
      "epoch 101, loss 0.0020, train acc 0.826, test acc 0.813\n",
      "epoch 102, loss 0.0020, train acc 0.827, test acc 0.814\n",
      "epoch 103, loss 0.0020, train acc 0.828, test acc 0.815\n",
      "epoch 104, loss 0.0020, train acc 0.827, test acc 0.815\n",
      "epoch 105, loss 0.0020, train acc 0.828, test acc 0.815\n",
      "epoch 106, loss 0.0020, train acc 0.828, test acc 0.815\n",
      "epoch 107, loss 0.0020, train acc 0.829, test acc 0.815\n",
      "epoch 108, loss 0.0020, train acc 0.829, test acc 0.816\n",
      "epoch 109, loss 0.0020, train acc 0.829, test acc 0.815\n",
      "epoch 110, loss 0.0020, train acc 0.829, test acc 0.816\n",
      "epoch 111, loss 0.0020, train acc 0.829, test acc 0.817\n",
      "epoch 112, loss 0.0020, train acc 0.830, test acc 0.817\n",
      "epoch 113, loss 0.0020, train acc 0.830, test acc 0.817\n",
      "epoch 114, loss 0.0020, train acc 0.830, test acc 0.818\n",
      "epoch 115, loss 0.0019, train acc 0.830, test acc 0.818\n",
      "epoch 116, loss 0.0019, train acc 0.831, test acc 0.817\n",
      "epoch 117, loss 0.0019, train acc 0.831, test acc 0.818\n",
      "epoch 118, loss 0.0019, train acc 0.832, test acc 0.818\n",
      "epoch 119, loss 0.0019, train acc 0.832, test acc 0.818\n",
      "epoch 120, loss 0.0019, train acc 0.832, test acc 0.818\n",
      "epoch 121, loss 0.0019, train acc 0.833, test acc 0.820\n",
      "epoch 122, loss 0.0019, train acc 0.832, test acc 0.819\n",
      "epoch 123, loss 0.0019, train acc 0.833, test acc 0.820\n",
      "epoch 124, loss 0.0019, train acc 0.833, test acc 0.821\n",
      "epoch 125, loss 0.0019, train acc 0.834, test acc 0.820\n",
      "epoch 126, loss 0.0019, train acc 0.834, test acc 0.821\n",
      "epoch 127, loss 0.0019, train acc 0.834, test acc 0.820\n",
      "epoch 128, loss 0.0019, train acc 0.834, test acc 0.819\n",
      "epoch 129, loss 0.0019, train acc 0.835, test acc 0.821\n",
      "epoch 130, loss 0.0019, train acc 0.835, test acc 0.821\n",
      "epoch 131, loss 0.0019, train acc 0.835, test acc 0.822\n",
      "epoch 132, loss 0.0019, train acc 0.835, test acc 0.821\n",
      "epoch 133, loss 0.0019, train acc 0.835, test acc 0.821\n",
      "epoch 134, loss 0.0019, train acc 0.836, test acc 0.823\n",
      "epoch 135, loss 0.0019, train acc 0.836, test acc 0.821\n",
      "epoch 136, loss 0.0019, train acc 0.836, test acc 0.822\n",
      "epoch 137, loss 0.0019, train acc 0.837, test acc 0.822\n",
      "epoch 138, loss 0.0019, train acc 0.837, test acc 0.823\n",
      "epoch 139, loss 0.0019, train acc 0.837, test acc 0.822\n",
      "epoch 140, loss 0.0019, train acc 0.837, test acc 0.823\n",
      "epoch 141, loss 0.0019, train acc 0.837, test acc 0.823\n",
      "epoch 142, loss 0.0019, train acc 0.837, test acc 0.824\n",
      "epoch 143, loss 0.0019, train acc 0.838, test acc 0.824\n",
      "epoch 144, loss 0.0019, train acc 0.838, test acc 0.824\n",
      "epoch 145, loss 0.0019, train acc 0.838, test acc 0.824\n",
      "epoch 146, loss 0.0018, train acc 0.838, test acc 0.825\n",
      "epoch 147, loss 0.0018, train acc 0.839, test acc 0.825\n",
      "epoch 148, loss 0.0018, train acc 0.839, test acc 0.825\n",
      "epoch 149, loss 0.0018, train acc 0.840, test acc 0.825\n"
     ]
    },
    {
     "name": "stdout",
     "output_type": "stream",
     "text": [
      "epoch 150, loss 0.0018, train acc 0.840, test acc 0.825\n",
      "epoch 151, loss 0.0018, train acc 0.840, test acc 0.824\n",
      "epoch 152, loss 0.0018, train acc 0.840, test acc 0.825\n",
      "epoch 153, loss 0.0018, train acc 0.841, test acc 0.826\n",
      "epoch 154, loss 0.0018, train acc 0.840, test acc 0.825\n",
      "epoch 155, loss 0.0018, train acc 0.841, test acc 0.826\n",
      "epoch 156, loss 0.0018, train acc 0.841, test acc 0.826\n",
      "epoch 157, loss 0.0018, train acc 0.841, test acc 0.825\n",
      "epoch 158, loss 0.0018, train acc 0.841, test acc 0.826\n",
      "epoch 159, loss 0.0018, train acc 0.841, test acc 0.827\n",
      "epoch 160, loss 0.0018, train acc 0.841, test acc 0.827\n",
      "epoch 161, loss 0.0018, train acc 0.842, test acc 0.827\n",
      "epoch 162, loss 0.0018, train acc 0.842, test acc 0.828\n",
      "epoch 163, loss 0.0018, train acc 0.842, test acc 0.827\n",
      "epoch 164, loss 0.0018, train acc 0.842, test acc 0.827\n",
      "epoch 165, loss 0.0018, train acc 0.843, test acc 0.828\n",
      "epoch 166, loss 0.0018, train acc 0.843, test acc 0.828\n",
      "epoch 167, loss 0.0018, train acc 0.843, test acc 0.828\n",
      "epoch 168, loss 0.0018, train acc 0.843, test acc 0.827\n",
      "epoch 169, loss 0.0018, train acc 0.843, test acc 0.828\n",
      "epoch 170, loss 0.0018, train acc 0.843, test acc 0.829\n",
      "epoch 171, loss 0.0018, train acc 0.844, test acc 0.829\n",
      "epoch 172, loss 0.0018, train acc 0.843, test acc 0.829\n",
      "epoch 173, loss 0.0018, train acc 0.844, test acc 0.829\n",
      "epoch 174, loss 0.0018, train acc 0.844, test acc 0.829\n",
      "epoch 175, loss 0.0018, train acc 0.844, test acc 0.829\n",
      "epoch 176, loss 0.0018, train acc 0.844, test acc 0.829\n",
      "epoch 177, loss 0.0018, train acc 0.844, test acc 0.830\n",
      "epoch 178, loss 0.0018, train acc 0.845, test acc 0.830\n",
      "epoch 179, loss 0.0018, train acc 0.844, test acc 0.829\n",
      "epoch 180, loss 0.0018, train acc 0.845, test acc 0.830\n",
      "epoch 181, loss 0.0018, train acc 0.845, test acc 0.830\n",
      "epoch 182, loss 0.0018, train acc 0.845, test acc 0.830\n",
      "epoch 183, loss 0.0018, train acc 0.845, test acc 0.830\n",
      "epoch 184, loss 0.0018, train acc 0.845, test acc 0.830\n",
      "epoch 185, loss 0.0018, train acc 0.846, test acc 0.830\n",
      "epoch 186, loss 0.0018, train acc 0.846, test acc 0.831\n",
      "epoch 187, loss 0.0018, train acc 0.846, test acc 0.830\n",
      "epoch 188, loss 0.0018, train acc 0.846, test acc 0.830\n",
      "epoch 189, loss 0.0018, train acc 0.846, test acc 0.832\n",
      "epoch 190, loss 0.0018, train acc 0.846, test acc 0.830\n",
      "epoch 191, loss 0.0018, train acc 0.846, test acc 0.832\n",
      "epoch 192, loss 0.0018, train acc 0.846, test acc 0.831\n",
      "epoch 193, loss 0.0018, train acc 0.846, test acc 0.832\n",
      "epoch 194, loss 0.0017, train acc 0.847, test acc 0.831\n",
      "epoch 195, loss 0.0017, train acc 0.847, test acc 0.831\n",
      "epoch 196, loss 0.0017, train acc 0.847, test acc 0.830\n",
      "epoch 197, loss 0.0017, train acc 0.847, test acc 0.832\n",
      "epoch 198, loss 0.0017, train acc 0.847, test acc 0.832\n",
      "epoch 199, loss 0.0017, train acc 0.847, test acc 0.832\n",
      "epoch 200, loss 0.0017, train acc 0.847, test acc 0.831\n",
      "epoch 201, loss 0.0017, train acc 0.848, test acc 0.832\n",
      "epoch 202, loss 0.0017, train acc 0.848, test acc 0.833\n",
      "epoch 203, loss 0.0017, train acc 0.848, test acc 0.832\n",
      "epoch 204, loss 0.0017, train acc 0.848, test acc 0.832\n",
      "epoch 205, loss 0.0017, train acc 0.848, test acc 0.833\n",
      "epoch 206, loss 0.0017, train acc 0.848, test acc 0.833\n",
      "epoch 207, loss 0.0017, train acc 0.848, test acc 0.833\n",
      "epoch 208, loss 0.0017, train acc 0.848, test acc 0.832\n",
      "epoch 209, loss 0.0017, train acc 0.848, test acc 0.833\n",
      "epoch 210, loss 0.0017, train acc 0.848, test acc 0.833\n",
      "epoch 211, loss 0.0017, train acc 0.849, test acc 0.833\n",
      "epoch 212, loss 0.0017, train acc 0.849, test acc 0.833\n",
      "epoch 213, loss 0.0017, train acc 0.849, test acc 0.834\n",
      "epoch 214, loss 0.0017, train acc 0.849, test acc 0.833\n",
      "epoch 215, loss 0.0017, train acc 0.849, test acc 0.833\n",
      "epoch 216, loss 0.0017, train acc 0.849, test acc 0.834\n",
      "epoch 217, loss 0.0017, train acc 0.850, test acc 0.834\n",
      "epoch 218, loss 0.0017, train acc 0.849, test acc 0.833\n",
      "epoch 219, loss 0.0017, train acc 0.850, test acc 0.835\n",
      "epoch 220, loss 0.0017, train acc 0.850, test acc 0.833\n",
      "epoch 221, loss 0.0017, train acc 0.850, test acc 0.834\n",
      "epoch 222, loss 0.0017, train acc 0.850, test acc 0.835\n",
      "epoch 223, loss 0.0017, train acc 0.850, test acc 0.833\n",
      "epoch 224, loss 0.0017, train acc 0.850, test acc 0.834\n",
      "epoch 225, loss 0.0017, train acc 0.850, test acc 0.835\n",
      "epoch 226, loss 0.0017, train acc 0.850, test acc 0.834\n",
      "epoch 227, loss 0.0017, train acc 0.850, test acc 0.836\n",
      "epoch 228, loss 0.0017, train acc 0.851, test acc 0.836\n"
     ]
    },
    {
     "ename": "KeyboardInterrupt",
     "evalue": "",
     "output_type": "error",
     "traceback": [
      "\u001b[0;31m---------------------------------------------------------------------------\u001b[0m",
      "\u001b[0;31mKeyboardInterrupt\u001b[0m                         Traceback (most recent call last)",
      "\u001b[0;32m<ipython-input-7-b6772aa56049>\u001b[0m in \u001b[0;36m<module>\u001b[0;34m\u001b[0m\n\u001b[1;32m      1\u001b[0m \u001b[0mnum_epochs\u001b[0m\u001b[0;34m,\u001b[0m \u001b[0mlr\u001b[0m \u001b[0;34m=\u001b[0m \u001b[0;36m5\u001b[0m\u001b[0;34m,\u001b[0m \u001b[0;36m0.5\u001b[0m\u001b[0;34m\u001b[0m\u001b[0m\n\u001b[0;32m----> 2\u001b[0;31m \u001b[0md2l\u001b[0m\u001b[0;34m.\u001b[0m\u001b[0mtrain_ch3\u001b[0m\u001b[0;34m(\u001b[0m\u001b[0mnet\u001b[0m\u001b[0;34m,\u001b[0m \u001b[0mtrain_iter\u001b[0m\u001b[0;34m,\u001b[0m \u001b[0mtest_iter\u001b[0m\u001b[0;34m,\u001b[0m \u001b[0mloss\u001b[0m\u001b[0;34m,\u001b[0m \u001b[0mnum_inputs\u001b[0m\u001b[0;34m,\u001b[0m \u001b[0mbatch_size\u001b[0m\u001b[0;34m,\u001b[0m \u001b[0mparams\u001b[0m\u001b[0;34m,\u001b[0m \u001b[0mlr\u001b[0m\u001b[0;34m)\u001b[0m\u001b[0;34m\u001b[0m\u001b[0m\n\u001b[0m",
      "\u001b[0;32m~/Work/workspace/pycharm/machine-learning/dl/dive-into-dl/d2lzh_pytorch/utils.py\u001b[0m in \u001b[0;36mtrain_ch3\u001b[0;34m(net, train_iter, test_iter, loss, num_epochs, batch_size, params, lr, optimizer)\u001b[0m\n\u001b[1;32m    142\u001b[0m             \u001b[0mtrain_acc_sum\u001b[0m \u001b[0;34m+=\u001b[0m \u001b[0;34m(\u001b[0m\u001b[0my_hat\u001b[0m\u001b[0;34m.\u001b[0m\u001b[0margmax\u001b[0m\u001b[0;34m(\u001b[0m\u001b[0mdim\u001b[0m\u001b[0;34m=\u001b[0m\u001b[0;36m1\u001b[0m\u001b[0;34m)\u001b[0m \u001b[0;34m==\u001b[0m \u001b[0my\u001b[0m\u001b[0;34m)\u001b[0m\u001b[0;34m.\u001b[0m\u001b[0msum\u001b[0m\u001b[0;34m(\u001b[0m\u001b[0;34m)\u001b[0m\u001b[0;34m.\u001b[0m\u001b[0mitem\u001b[0m\u001b[0;34m(\u001b[0m\u001b[0;34m)\u001b[0m\u001b[0;34m\u001b[0m\u001b[0m\n\u001b[1;32m    143\u001b[0m             \u001b[0mn\u001b[0m \u001b[0;34m+=\u001b[0m \u001b[0my\u001b[0m\u001b[0;34m.\u001b[0m\u001b[0mshape\u001b[0m\u001b[0;34m[\u001b[0m\u001b[0;36m0\u001b[0m\u001b[0;34m]\u001b[0m\u001b[0;34m\u001b[0m\u001b[0m\n\u001b[0;32m--> 144\u001b[0;31m         \u001b[0mtest_acc\u001b[0m \u001b[0;34m=\u001b[0m \u001b[0mevaluate_accuracy\u001b[0m\u001b[0;34m(\u001b[0m\u001b[0mtest_iter\u001b[0m\u001b[0;34m,\u001b[0m \u001b[0mnet\u001b[0m\u001b[0;34m)\u001b[0m\u001b[0;34m\u001b[0m\u001b[0m\n\u001b[0m\u001b[1;32m    145\u001b[0m         print('epoch %d, loss %.4f, train acc %.3f, test acc %.3f'\n\u001b[1;32m    146\u001b[0m               % (epoch + 1, train_l_sum / n, train_acc_sum / n, test_acc))\n",
      "\u001b[0;32m~/Work/workspace/pycharm/machine-learning/dl/dive-into-dl/d2lzh_pytorch/utils.py\u001b[0m in \u001b[0;36mevaluate_accuracy\u001b[0;34m(data_iter, net, device)\u001b[0m\n\u001b[1;32m    213\u001b[0m     \u001b[0macc_sum\u001b[0m\u001b[0;34m,\u001b[0m \u001b[0mn\u001b[0m \u001b[0;34m=\u001b[0m \u001b[0;36m0.0\u001b[0m\u001b[0;34m,\u001b[0m \u001b[0;36m0\u001b[0m\u001b[0;34m\u001b[0m\u001b[0m\n\u001b[1;32m    214\u001b[0m     \u001b[0;32mwith\u001b[0m \u001b[0mtorch\u001b[0m\u001b[0;34m.\u001b[0m\u001b[0mno_grad\u001b[0m\u001b[0;34m(\u001b[0m\u001b[0;34m)\u001b[0m\u001b[0;34m:\u001b[0m\u001b[0;34m\u001b[0m\u001b[0m\n\u001b[0;32m--> 215\u001b[0;31m         \u001b[0;32mfor\u001b[0m \u001b[0mX\u001b[0m\u001b[0;34m,\u001b[0m \u001b[0my\u001b[0m \u001b[0;32min\u001b[0m \u001b[0mdata_iter\u001b[0m\u001b[0;34m:\u001b[0m\u001b[0;34m\u001b[0m\u001b[0m\n\u001b[0m\u001b[1;32m    216\u001b[0m             \u001b[0;32mif\u001b[0m \u001b[0misinstance\u001b[0m\u001b[0;34m(\u001b[0m\u001b[0mnet\u001b[0m\u001b[0;34m,\u001b[0m \u001b[0mtorch\u001b[0m\u001b[0;34m.\u001b[0m\u001b[0mnn\u001b[0m\u001b[0;34m.\u001b[0m\u001b[0mModule\u001b[0m\u001b[0;34m)\u001b[0m\u001b[0;34m:\u001b[0m\u001b[0;34m\u001b[0m\u001b[0m\n\u001b[1;32m    217\u001b[0m                 \u001b[0mnet\u001b[0m\u001b[0;34m.\u001b[0m\u001b[0meval\u001b[0m\u001b[0;34m(\u001b[0m\u001b[0;34m)\u001b[0m \u001b[0;31m# 评估模式, 这会关闭dropout\u001b[0m\u001b[0;34m\u001b[0m\u001b[0m\n",
      "\u001b[0;32m/usr/local/lib/python3.6/site-packages/torch/utils/data/dataloader.py\u001b[0m in \u001b[0;36m__next__\u001b[0;34m(self)\u001b[0m\n\u001b[1;32m    802\u001b[0m \u001b[0;34m\u001b[0m\u001b[0m\n\u001b[1;32m    803\u001b[0m             \u001b[0;32massert\u001b[0m \u001b[0;32mnot\u001b[0m \u001b[0mself\u001b[0m\u001b[0;34m.\u001b[0m\u001b[0m_shutdown\u001b[0m \u001b[0;32mand\u001b[0m \u001b[0mself\u001b[0m\u001b[0;34m.\u001b[0m\u001b[0m_tasks_outstanding\u001b[0m \u001b[0;34m>\u001b[0m \u001b[0;36m0\u001b[0m\u001b[0;34m\u001b[0m\u001b[0m\n\u001b[0;32m--> 804\u001b[0;31m             \u001b[0midx\u001b[0m\u001b[0;34m,\u001b[0m \u001b[0mdata\u001b[0m \u001b[0;34m=\u001b[0m \u001b[0mself\u001b[0m\u001b[0;34m.\u001b[0m\u001b[0m_get_data\u001b[0m\u001b[0;34m(\u001b[0m\u001b[0;34m)\u001b[0m\u001b[0;34m\u001b[0m\u001b[0m\n\u001b[0m\u001b[1;32m    805\u001b[0m             \u001b[0mself\u001b[0m\u001b[0;34m.\u001b[0m\u001b[0m_tasks_outstanding\u001b[0m \u001b[0;34m-=\u001b[0m \u001b[0;36m1\u001b[0m\u001b[0;34m\u001b[0m\u001b[0m\n\u001b[1;32m    806\u001b[0m \u001b[0;34m\u001b[0m\u001b[0m\n",
      "\u001b[0;32m/usr/local/lib/python3.6/site-packages/torch/utils/data/dataloader.py\u001b[0m in \u001b[0;36m_get_data\u001b[0;34m(self)\u001b[0m\n\u001b[1;32m    769\u001b[0m         \u001b[0;32melse\u001b[0m\u001b[0;34m:\u001b[0m\u001b[0;34m\u001b[0m\u001b[0m\n\u001b[1;32m    770\u001b[0m             \u001b[0;32mwhile\u001b[0m \u001b[0;32mTrue\u001b[0m\u001b[0;34m:\u001b[0m\u001b[0;34m\u001b[0m\u001b[0m\n\u001b[0;32m--> 771\u001b[0;31m                 \u001b[0msuccess\u001b[0m\u001b[0;34m,\u001b[0m \u001b[0mdata\u001b[0m \u001b[0;34m=\u001b[0m \u001b[0mself\u001b[0m\u001b[0;34m.\u001b[0m\u001b[0m_try_get_data\u001b[0m\u001b[0;34m(\u001b[0m\u001b[0;34m)\u001b[0m\u001b[0;34m\u001b[0m\u001b[0m\n\u001b[0m\u001b[1;32m    772\u001b[0m                 \u001b[0;32mif\u001b[0m \u001b[0msuccess\u001b[0m\u001b[0;34m:\u001b[0m\u001b[0;34m\u001b[0m\u001b[0m\n\u001b[1;32m    773\u001b[0m                     \u001b[0;32mreturn\u001b[0m \u001b[0mdata\u001b[0m\u001b[0;34m\u001b[0m\u001b[0m\n",
      "\u001b[0;32m/usr/local/lib/python3.6/site-packages/torch/utils/data/dataloader.py\u001b[0m in \u001b[0;36m_try_get_data\u001b[0;34m(self, timeout)\u001b[0m\n\u001b[1;32m    722\u001b[0m         \u001b[0;31m#   (bool: whether successfully get data, any: data if successful else None)\u001b[0m\u001b[0;34m\u001b[0m\u001b[0;34m\u001b[0m\u001b[0m\n\u001b[1;32m    723\u001b[0m         \u001b[0;32mtry\u001b[0m\u001b[0;34m:\u001b[0m\u001b[0;34m\u001b[0m\u001b[0m\n\u001b[0;32m--> 724\u001b[0;31m             \u001b[0mdata\u001b[0m \u001b[0;34m=\u001b[0m \u001b[0mself\u001b[0m\u001b[0;34m.\u001b[0m\u001b[0m_data_queue\u001b[0m\u001b[0;34m.\u001b[0m\u001b[0mget\u001b[0m\u001b[0;34m(\u001b[0m\u001b[0mtimeout\u001b[0m\u001b[0;34m=\u001b[0m\u001b[0mtimeout\u001b[0m\u001b[0;34m)\u001b[0m\u001b[0;34m\u001b[0m\u001b[0m\n\u001b[0m\u001b[1;32m    725\u001b[0m             \u001b[0;32mreturn\u001b[0m \u001b[0;34m(\u001b[0m\u001b[0;32mTrue\u001b[0m\u001b[0;34m,\u001b[0m \u001b[0mdata\u001b[0m\u001b[0;34m)\u001b[0m\u001b[0;34m\u001b[0m\u001b[0m\n\u001b[1;32m    726\u001b[0m         \u001b[0;32mexcept\u001b[0m \u001b[0mException\u001b[0m \u001b[0;32mas\u001b[0m \u001b[0me\u001b[0m\u001b[0;34m:\u001b[0m\u001b[0;34m\u001b[0m\u001b[0m\n",
      "\u001b[0;32m/usr/local/Cellar/python/3.6.5_1/Frameworks/Python.framework/Versions/3.6/lib/python3.6/multiprocessing/queues.py\u001b[0m in \u001b[0;36mget\u001b[0;34m(self, block, timeout)\u001b[0m\n\u001b[1;32m    102\u001b[0m                 \u001b[0;32mif\u001b[0m \u001b[0mblock\u001b[0m\u001b[0;34m:\u001b[0m\u001b[0;34m\u001b[0m\u001b[0m\n\u001b[1;32m    103\u001b[0m                     \u001b[0mtimeout\u001b[0m \u001b[0;34m=\u001b[0m \u001b[0mdeadline\u001b[0m \u001b[0;34m-\u001b[0m \u001b[0mtime\u001b[0m\u001b[0;34m.\u001b[0m\u001b[0mtime\u001b[0m\u001b[0;34m(\u001b[0m\u001b[0;34m)\u001b[0m\u001b[0;34m\u001b[0m\u001b[0m\n\u001b[0;32m--> 104\u001b[0;31m                     \u001b[0;32mif\u001b[0m \u001b[0;32mnot\u001b[0m \u001b[0mself\u001b[0m\u001b[0;34m.\u001b[0m\u001b[0m_poll\u001b[0m\u001b[0;34m(\u001b[0m\u001b[0mtimeout\u001b[0m\u001b[0;34m)\u001b[0m\u001b[0;34m:\u001b[0m\u001b[0;34m\u001b[0m\u001b[0m\n\u001b[0m\u001b[1;32m    105\u001b[0m                         \u001b[0;32mraise\u001b[0m \u001b[0mEmpty\u001b[0m\u001b[0;34m\u001b[0m\u001b[0m\n\u001b[1;32m    106\u001b[0m                 \u001b[0;32melif\u001b[0m \u001b[0;32mnot\u001b[0m \u001b[0mself\u001b[0m\u001b[0;34m.\u001b[0m\u001b[0m_poll\u001b[0m\u001b[0;34m(\u001b[0m\u001b[0;34m)\u001b[0m\u001b[0;34m:\u001b[0m\u001b[0;34m\u001b[0m\u001b[0m\n",
      "\u001b[0;32m/usr/local/Cellar/python/3.6.5_1/Frameworks/Python.framework/Versions/3.6/lib/python3.6/multiprocessing/connection.py\u001b[0m in \u001b[0;36mpoll\u001b[0;34m(self, timeout)\u001b[0m\n\u001b[1;32m    255\u001b[0m         \u001b[0mself\u001b[0m\u001b[0;34m.\u001b[0m\u001b[0m_check_closed\u001b[0m\u001b[0;34m(\u001b[0m\u001b[0;34m)\u001b[0m\u001b[0;34m\u001b[0m\u001b[0m\n\u001b[1;32m    256\u001b[0m         \u001b[0mself\u001b[0m\u001b[0;34m.\u001b[0m\u001b[0m_check_readable\u001b[0m\u001b[0;34m(\u001b[0m\u001b[0;34m)\u001b[0m\u001b[0;34m\u001b[0m\u001b[0m\n\u001b[0;32m--> 257\u001b[0;31m         \u001b[0;32mreturn\u001b[0m \u001b[0mself\u001b[0m\u001b[0;34m.\u001b[0m\u001b[0m_poll\u001b[0m\u001b[0;34m(\u001b[0m\u001b[0mtimeout\u001b[0m\u001b[0;34m)\u001b[0m\u001b[0;34m\u001b[0m\u001b[0m\n\u001b[0m\u001b[1;32m    258\u001b[0m \u001b[0;34m\u001b[0m\u001b[0m\n\u001b[1;32m    259\u001b[0m     \u001b[0;32mdef\u001b[0m \u001b[0m__enter__\u001b[0m\u001b[0;34m(\u001b[0m\u001b[0mself\u001b[0m\u001b[0;34m)\u001b[0m\u001b[0;34m:\u001b[0m\u001b[0;34m\u001b[0m\u001b[0m\n",
      "\u001b[0;32m/usr/local/Cellar/python/3.6.5_1/Frameworks/Python.framework/Versions/3.6/lib/python3.6/multiprocessing/connection.py\u001b[0m in \u001b[0;36m_poll\u001b[0;34m(self, timeout)\u001b[0m\n\u001b[1;32m    412\u001b[0m \u001b[0;34m\u001b[0m\u001b[0m\n\u001b[1;32m    413\u001b[0m     \u001b[0;32mdef\u001b[0m \u001b[0m_poll\u001b[0m\u001b[0;34m(\u001b[0m\u001b[0mself\u001b[0m\u001b[0;34m,\u001b[0m \u001b[0mtimeout\u001b[0m\u001b[0;34m)\u001b[0m\u001b[0;34m:\u001b[0m\u001b[0;34m\u001b[0m\u001b[0m\n\u001b[0;32m--> 414\u001b[0;31m         \u001b[0mr\u001b[0m \u001b[0;34m=\u001b[0m \u001b[0mwait\u001b[0m\u001b[0;34m(\u001b[0m\u001b[0;34m[\u001b[0m\u001b[0mself\u001b[0m\u001b[0;34m]\u001b[0m\u001b[0;34m,\u001b[0m \u001b[0mtimeout\u001b[0m\u001b[0;34m)\u001b[0m\u001b[0;34m\u001b[0m\u001b[0m\n\u001b[0m\u001b[1;32m    415\u001b[0m         \u001b[0;32mreturn\u001b[0m \u001b[0mbool\u001b[0m\u001b[0;34m(\u001b[0m\u001b[0mr\u001b[0m\u001b[0;34m)\u001b[0m\u001b[0;34m\u001b[0m\u001b[0m\n\u001b[1;32m    416\u001b[0m \u001b[0;34m\u001b[0m\u001b[0m\n",
      "\u001b[0;32m/usr/local/Cellar/python/3.6.5_1/Frameworks/Python.framework/Versions/3.6/lib/python3.6/multiprocessing/connection.py\u001b[0m in \u001b[0;36mwait\u001b[0;34m(object_list, timeout)\u001b[0m\n\u001b[1;32m    903\u001b[0m         \u001b[0;32mwith\u001b[0m \u001b[0m_WaitSelector\u001b[0m\u001b[0;34m(\u001b[0m\u001b[0;34m)\u001b[0m \u001b[0;32mas\u001b[0m \u001b[0mselector\u001b[0m\u001b[0;34m:\u001b[0m\u001b[0;34m\u001b[0m\u001b[0m\n\u001b[1;32m    904\u001b[0m             \u001b[0;32mfor\u001b[0m \u001b[0mobj\u001b[0m \u001b[0;32min\u001b[0m \u001b[0mobject_list\u001b[0m\u001b[0;34m:\u001b[0m\u001b[0;34m\u001b[0m\u001b[0m\n\u001b[0;32m--> 905\u001b[0;31m                 \u001b[0mselector\u001b[0m\u001b[0;34m.\u001b[0m\u001b[0mregister\u001b[0m\u001b[0;34m(\u001b[0m\u001b[0mobj\u001b[0m\u001b[0;34m,\u001b[0m \u001b[0mselectors\u001b[0m\u001b[0;34m.\u001b[0m\u001b[0mEVENT_READ\u001b[0m\u001b[0;34m)\u001b[0m\u001b[0;34m\u001b[0m\u001b[0m\n\u001b[0m\u001b[1;32m    906\u001b[0m \u001b[0;34m\u001b[0m\u001b[0m\n\u001b[1;32m    907\u001b[0m             \u001b[0;32mif\u001b[0m \u001b[0mtimeout\u001b[0m \u001b[0;32mis\u001b[0m \u001b[0;32mnot\u001b[0m \u001b[0;32mNone\u001b[0m\u001b[0;34m:\u001b[0m\u001b[0;34m\u001b[0m\u001b[0m\n",
      "\u001b[0;32m/usr/local/Cellar/python/3.6.5_1/Frameworks/Python.framework/Versions/3.6/lib/python3.6/selectors.py\u001b[0m in \u001b[0;36mregister\u001b[0;34m(self, fileobj, events, data)\u001b[0m\n\u001b[1;32m    353\u001b[0m             \u001b[0;32mif\u001b[0m \u001b[0mevents\u001b[0m \u001b[0;34m&\u001b[0m \u001b[0mEVENT_READ\u001b[0m\u001b[0;34m:\u001b[0m\u001b[0;34m\u001b[0m\u001b[0m\n\u001b[1;32m    354\u001b[0m                 \u001b[0mpoll_events\u001b[0m \u001b[0;34m|=\u001b[0m \u001b[0mselect\u001b[0m\u001b[0;34m.\u001b[0m\u001b[0mPOLLIN\u001b[0m\u001b[0;34m\u001b[0m\u001b[0m\n\u001b[0;32m--> 355\u001b[0;31m             \u001b[0;32mif\u001b[0m \u001b[0mevents\u001b[0m \u001b[0;34m&\u001b[0m \u001b[0mEVENT_WRITE\u001b[0m\u001b[0;34m:\u001b[0m\u001b[0;34m\u001b[0m\u001b[0m\n\u001b[0m\u001b[1;32m    356\u001b[0m                 \u001b[0mpoll_events\u001b[0m \u001b[0;34m|=\u001b[0m \u001b[0mselect\u001b[0m\u001b[0;34m.\u001b[0m\u001b[0mPOLLOUT\u001b[0m\u001b[0;34m\u001b[0m\u001b[0m\n\u001b[1;32m    357\u001b[0m             \u001b[0mself\u001b[0m\u001b[0;34m.\u001b[0m\u001b[0m_poll\u001b[0m\u001b[0;34m.\u001b[0m\u001b[0mregister\u001b[0m\u001b[0;34m(\u001b[0m\u001b[0mkey\u001b[0m\u001b[0;34m.\u001b[0m\u001b[0mfd\u001b[0m\u001b[0;34m,\u001b[0m \u001b[0mpoll_events\u001b[0m\u001b[0;34m)\u001b[0m\u001b[0;34m\u001b[0m\u001b[0m\n",
      "\u001b[0;31mKeyboardInterrupt\u001b[0m: "
     ]
    }
   ],
   "source": [
    "num_epochs, lr = 5, 0.5\n",
    "d2l.train_ch3(net, train_iter, test_iter, loss, num_inputs, batch_size, params, lr)"
   ]
  },
  {
   "cell_type": "code",
   "execution_count": null,
   "metadata": {},
   "outputs": [],
   "source": []
  }
 ],
 "metadata": {
  "kernelspec": {
   "display_name": "Python 3",
   "language": "python",
   "name": "python3"
  },
  "language_info": {
   "codemirror_mode": {
    "name": "ipython",
    "version": 3
   },
   "file_extension": ".py",
   "mimetype": "text/x-python",
   "name": "python",
   "nbconvert_exporter": "python",
   "pygments_lexer": "ipython3",
   "version": "3.6.5"
  }
 },
 "nbformat": 4,
 "nbformat_minor": 2
}
