{
 "cells": [
  {
   "cell_type": "markdown",
   "metadata": {},
   "source": [
    "## 5.5 卷积神经网络(LeNet)"
   ]
  },
  {
   "cell_type": "markdown",
   "metadata": {},
   "source": [
    "![LeNet网络结构](img/5.5_lenet.png)"
   ]
  },
  {
   "cell_type": "markdown",
   "metadata": {},
   "source": [
    "### 5.5.1 LeNet模型\n",
    "\n",
    "1. **分为卷积层块和全链接层块**\n",
    "2. **卷积层基本单位: 卷积层(5x5,且sigmoid激活)+最大池化层(2x2)**\n",
    "    - 卷积层: 识别图像的空间模型,如线条和物体局部\n",
    "    - 最大池化: 降低卷积层对位置的敏感性\n",
    "3. **C1层(卷积层):6@28x28**\n",
    "    - 特诊图大小: 6个卷积核,得到feature map大小为(32-5+1)x(32-5+1)=28x28\n",
    "    - 参数个数: 因为权值共享,所以参数个数 (5x5+1)x6 = 156 (5x5为卷积核参数,1为偏置参数)\n",
    "    - 连接数: 卷积后每个特诊图有28x28个神经元,每个卷积核参数为(5x5+1)x6,所以该层连接数(5x5+1)x6x28x28=122304\n",
    "4. **S2层(池化层):6@14x14**\n",
    "    - 特诊图大小: 6x(28/2)x(28/2)=6x14x14\n",
    "    - 参数个数: \n",
    "    - 连接数:"
   ]
  },
  {
   "cell_type": "code",
   "execution_count": null,
   "metadata": {},
   "outputs": [],
   "source": []
  }
 ],
 "metadata": {
  "kernelspec": {
   "display_name": "Python 3",
   "language": "python",
   "name": "python3"
  },
  "language_info": {
   "codemirror_mode": {
    "name": "ipython",
    "version": 3
   },
   "file_extension": ".py",
   "mimetype": "text/x-python",
   "name": "python",
   "nbconvert_exporter": "python",
   "pygments_lexer": "ipython3",
   "version": "3.6.8"
  }
 },
 "nbformat": 4,
 "nbformat_minor": 2
}
