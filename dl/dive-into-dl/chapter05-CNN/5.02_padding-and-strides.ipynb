{
 "cells": [
  {
   "cell_type": "markdown",
   "metadata": {},
   "source": [
    "### 5.2 填充和步幅"
   ]
  },
  {
   "cell_type": "code",
   "execution_count": 1,
   "metadata": {},
   "outputs": [],
   "source": [
    "import torch\n",
    "from torch import nn"
   ]
  },
  {
   "cell_type": "markdown",
   "metadata": {},
   "source": [
    "### 5.2.1 填充\n",
    "\n",
    "> **如果输入形状为 $n_h \\times n_w$,卷积核尺寸$k_h \\times h_w$,那么输出形状为 $$(n_h - k_h + 1) \\times (n_w - k_w + 1)$$**\n",
    "\n",
    "\n",
    "> **`填充(padding)`: 在输入的宽和高两侧填充元素(通常是0元素)**\n",
    "\n",
    "\n",
    "> **如果高两侧一共填充$p_h$行,宽两侧一共填充$p_w$列,那么输出形状为$$(b_h - k_h + p_h + 1) \\times (n_w - k_w + p_w + 1)$$**\n",
    "\n",
    "\n",
    "> 1. **一般情况下,会设置$p_h = k_h - 1$ 和 $p_w = k_w - 1$来使输入和输出具有相同宽和高,这样方便退出每层的输出形状** \n",
    "> 2. **若$k_h$是奇数,两侧填充$\\frac{p_h}{2}$行**\n",
    "> 3. **若$k_h$是偶数,一侧填充$\\lceil \\frac{p_h}{2} \\rceil$,另一侧填充$\\lfloor \\frac{p_h}{2} \\rfloor$**\n",
    "\n",
    "\n",
    "> 1. **CNN一般使用奇数宽高的卷积核,这样可以使两端填充个数相同**\n",
    "> 2. **当两端填充个数相同,并使输入和输出具有相同形状,则输出$Y[i, i]$是以输入$X[i, j]$为中心窗口**"
   ]
  },
  {
   "cell_type": "code",
   "execution_count": 2,
   "metadata": {},
   "outputs": [
    {
     "data": {
      "text/plain": [
       "torch.Size([8, 8])"
      ]
     },
     "execution_count": 2,
     "metadata": {},
     "output_type": "execute_result"
    }
   ],
   "source": [
    "# 定义一个函数来计算卷积层，对输入和输出做响应的升维和降维\n",
    "def comp_conv2d(conv2d, X):\n",
    "    # (1, 1)代表批量大小和通道数\n",
    "    X = X.view((1, 1) + X.shape)\n",
    "    Y = conv2d(X)\n",
    "    return Y.view(Y.shape[2:]) # 排除前两维：批量和通道\n",
    "\n",
    "# 这里两侧分别填充1行或列\n",
    "# in_channels, out_channels : 输入输出通道\n",
    "# kernel_size : 卷积核大小\n",
    "# padding : 填充\n",
    "conv2d = nn.Conv2d(in_channels=1, out_channels=1, kernel_size=3, padding=1)\n",
    "\n",
    "X = torch.rand(8, 8)\n",
    "comp_conv2d(conv2d, X).shape"
   ]
  },
  {
   "cell_type": "code",
   "execution_count": 4,
   "metadata": {},
   "outputs": [
    {
     "data": {
      "text/plain": [
       "torch.Size([8, 8])"
      ]
     },
     "execution_count": 4,
     "metadata": {},
     "output_type": "execute_result"
    }
   ],
   "source": [
    "# 使用高位5,宽为3,的卷积核,在高和宽两侧的填充数分别填充2和1\n",
    "conv2d = nn.Conv2d(in_channels=1, out_channels=1, kernel_size=(5, 3), padding=(2, 1))\n",
    "comp_conv2d(conv2d, X).shape"
   ]
  },
  {
   "cell_type": "markdown",
   "metadata": {},
   "source": [
    "### 5.2.2 步幅\n",
    "\n",
    "> 1. **`步幅(stride)`: 卷积窗口每次滑动的行数和列数**\n",
    "> 2. **当高上步幅为$s_h$,宽上步幅为$s_w$,输出形状为 $$\\lfloor \\frac{(n_h - k_h + p_h + s_h)}{s_h} \\rfloor \\times \n",
    "\\lfloor \\frac{(n_w - k_w + p_w + s_w)}{s_w} \\rfloor$$**\n",
    "> 3. **如果$p_h = k_h - 1$, $p_w = k_w - 1$,则输出形状为$$\\lfloor \\frac{(n_h + s_h - 1)}{s_h} \\rfloor \\times \n",
    "\\lfloor \\frac{(n_w + s_w - 1)}{s_w} \\rfloor$$**\n",
    "> 4. **如果输入的高和宽分别被对应的步幅正数,那么输出的形状为$$(\\frac{n_h }{s_h}) \\times (\\frac{n_w }{s_w})$$**"
   ]
  },
  {
   "cell_type": "code",
   "execution_count": 5,
   "metadata": {},
   "outputs": [
    {
     "data": {
      "text/plain": [
       "torch.Size([4, 4])"
      ]
     },
     "execution_count": 5,
     "metadata": {},
     "output_type": "execute_result"
    }
   ],
   "source": [
    "conv2d = nn.Conv2d(in_channels=1, out_channels=1, kernel_size=3, padding=1, stride=2)\n",
    "comp_conv2d(conv2d, X).shape"
   ]
  },
  {
   "cell_type": "code",
   "execution_count": 6,
   "metadata": {},
   "outputs": [
    {
     "data": {
      "text/plain": [
       "torch.Size([2, 2])"
      ]
     },
     "execution_count": 6,
     "metadata": {},
     "output_type": "execute_result"
    }
   ],
   "source": [
    "conv2d = nn.Conv2d(1, 1, kernel_size=(3, 5), padding=(0, 1), stride=(3, 4))\n",
    "comp_conv2d(conv2d, X).shape"
   ]
  },
  {
   "cell_type": "code",
   "execution_count": null,
   "metadata": {},
   "outputs": [],
   "source": []
  }
 ],
 "metadata": {
  "kernelspec": {
   "display_name": "Python 3",
   "language": "python",
   "name": "python3"
  },
  "language_info": {
   "codemirror_mode": {
    "name": "ipython",
    "version": 3
   },
   "file_extension": ".py",
   "mimetype": "text/x-python",
   "name": "python",
   "nbconvert_exporter": "python",
   "pygments_lexer": "ipython3",
   "version": "3.6.8"
  }
 },
 "nbformat": 4,
 "nbformat_minor": 2
}
