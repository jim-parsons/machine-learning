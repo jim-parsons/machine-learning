{
 "cells": [
  {
   "cell_type": "markdown",
   "metadata": {},
   "source": [
    "## 8.1 命令式和符号式混合编程"
   ]
  },
  {
   "cell_type": "markdown",
   "metadata": {},
   "source": [
    "#### 命令式编程"
   ]
  },
  {
   "cell_type": "code",
   "execution_count": 2,
   "metadata": {},
   "outputs": [
    {
     "data": {
      "text/plain": [
       "10"
      ]
     },
     "execution_count": 2,
     "metadata": {},
     "output_type": "execute_result"
    }
   ],
   "source": [
    "\n",
    "def add(a, b):\n",
    "    return a + b\n",
    "\n",
    "def fancy_func(a, b, c, d):\n",
    "    e = add(a, b)\n",
    "    f = add(c, d)\n",
    "    g = add(e, f)\n",
    "    return g\n",
    "\n",
    "fancy_func(1, 2, 3, 4) # 10"
   ]
  },
  {
   "cell_type": "markdown",
   "metadata": {},
   "source": [
    "在`fancy_func`中,`add`方法会被调用三次,且`e`,`f`都会被存储,因而运行较慢"
   ]
  },
  {
   "cell_type": "markdown",
   "metadata": {},
   "source": [
    "#### 符号式编程"
   ]
  },
  {
   "cell_type": "markdown",
   "metadata": {},
   "source": [
    "1. 符号式编程通常在计算流程完全定义好后才被执行\n",
    "    - 定义计算流程\n",
    "    - 把计算流程编译成可执行的程序\n",
    "    - 给定输入，调用编译好的程序执行"
   ]
  },
  {
   "cell_type": "code",
   "execution_count": 6,
   "metadata": {},
   "outputs": [
    {
     "name": "stdout",
     "output_type": "stream",
     "text": [
      "\n",
      "def add(a, b):\n",
      "    return a + b\n",
      "    \n",
      "def fancy_func(a, b, c, d):\n",
      "    e = add(a, b)\n",
      "    f = add(c, d)\n",
      "    g = add(e, f)\n",
      "    return g\n",
      "    \n",
      "print(fancy_func(1, 2, 3, 4))\n",
      "    \n",
      "10\n"
     ]
    }
   ],
   "source": [
    "def add_str():\n",
    "    return \"\"\"\n",
    "def add(a, b):\n",
    "    return a + b\n",
    "    \"\"\"\n",
    "\n",
    "def fancy_func_str():\n",
    "    return \"\"\"\n",
    "def fancy_func(a, b, c, d):\n",
    "    e = add(a, b)\n",
    "    f = add(c, d)\n",
    "    g = add(e, f)\n",
    "    return g\n",
    "    \"\"\"\n",
    "\n",
    "def evoke_str():\n",
    "    return add_str() + fancy_func_str() + \"\"\"\n",
    "print(fancy_func(1, 2, 3, 4))\n",
    "    \"\"\"\n",
    "\n",
    "prog = evoke_str()\n",
    "print(prog)\n",
    "\n",
    "y = compile(prog, '', 'exec')\n",
    "exec(y)"
   ]
  },
  {
   "cell_type": "markdown",
   "metadata": {},
   "source": [
    "1. 命令式编程更方便: 容易调试,能所有的中间变量值 \n",
    "2. 符号式编程更高效并更容易移植: \n",
    "    - 在编译的时候系统容易做更多优化\n",
    "    - 符号式编程可以将程序变成一个与Python无关的格式,从而可以使程序在非Python环境下运行，以避开Python解释器的性能问题"
   ]
  },
  {
   "cell_type": "code",
   "execution_count": null,
   "metadata": {},
   "outputs": [],
   "source": []
  }
 ],
 "metadata": {
  "kernelspec": {
   "display_name": "Python 3",
   "language": "python",
   "name": "python3"
  },
  "language_info": {
   "codemirror_mode": {
    "name": "ipython",
    "version": 3
   },
   "file_extension": ".py",
   "mimetype": "text/x-python",
   "name": "python",
   "nbconvert_exporter": "python",
   "pygments_lexer": "ipython3",
   "version": "3.6.8"
  }
 },
 "nbformat": 4,
 "nbformat_minor": 2
}
